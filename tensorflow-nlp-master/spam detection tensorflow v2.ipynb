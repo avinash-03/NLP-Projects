{
 "cells": [
  {
   "cell_type": "markdown",
   "metadata": {},
   "source": [
    "# Spam Classification with TensorFlow"
   ]
  },
  {
   "cell_type": "markdown",
   "metadata": {},
   "source": [
    "The below code uses the template from the [Intro to TensorFlow for Deep Learning](https://www.udacity.com/course/intro-to-tensorflow-for-deep-learning--ud187) tutorial, of which the original authors **(Copyright 2020 The TensorFlow Authors)** have made available under the Apache 2.0 license.\n",
    "\n",
    "The original source code can be found [here](https://colab.research.google.com/github/tensorflow/examples/blob/master/courses/udacity_intro_to_tensorflow_for_deep_learning/l09c04_nlp_embeddings_and_sentiment.ipynb).\n",
    "\n",
    "Modifications have been made to the below code for the purpose of generating appropriate analyses on the Spam Text Message Classification dataset from [Kaggle](https://www.kaggle.com/team-ai/spam-text-message-classification)."
   ]
  },
  {
   "cell_type": "code",
   "execution_count": 1,
   "metadata": {
    "cellView": "form",
    "colab": {},
    "colab_type": "code",
    "id": "_ckMIh7O7s6D"
   },
   "outputs": [],
   "source": [
    "#@title Licensed under the Apache License, Version 2.0 (the \"License\");\n",
    "# you may not use this file except in compliance with the License.\n",
    "# You may obtain a copy of the License at\n",
    "#\n",
    "# https://www.apache.org/licenses/LICENSE-2.0\n",
    "#\n",
    "# Unless required by applicable law or agreed to in writing, software\n",
    "# distributed under the License is distributed on an \"AS IS\" BASIS,\n",
    "# WITHOUT WARRANTIES OR CONDITIONS OF ANY KIND, either express or implied.\n",
    "# See the License for the specific language governing permissions and\n",
    "# limitations under the License."
   ]
  },
  {
   "cell_type": "markdown",
   "metadata": {
    "colab_type": "text",
    "id": "9uBA1i1BbiJn"
   },
   "source": [
    "# Word Embeddings"
   ]
  },
  {
   "cell_type": "markdown",
   "metadata": {
    "colab_type": "text",
    "id": "wqvz1jVgbwIN"
   },
   "source": [
    "## Import TensorFlow and Dataset"
   ]
  },
  {
   "cell_type": "code",
   "execution_count": 1,
   "metadata": {
    "ExecuteTime": {
     "end_time": "2022-03-17T15:05:23.662166Z",
     "start_time": "2022-03-17T15:05:16.301254Z"
    },
    "colab": {},
    "colab_type": "code",
    "id": "XIG52aKPdpux"
   },
   "outputs": [],
   "source": [
    "import tensorflow as tf\n",
    "\n",
    "from tensorflow.keras.preprocessing.text import Tokenizer\n",
    "from tensorflow.keras.preprocessing.sequence import pad_sequences"
   ]
  },
  {
   "cell_type": "code",
   "execution_count": 2,
   "metadata": {
    "ExecuteTime": {
     "end_time": "2022-03-17T15:05:23.677708Z",
     "start_time": "2022-03-17T15:05:23.662166Z"
    }
   },
   "outputs": [],
   "source": [
    "# get data files\n",
    "#wget https://cdn.freecodecamp.org/project-data/sms/train-data.tsv"
   ]
  },
  {
   "cell_type": "code",
   "execution_count": 3,
   "metadata": {
    "ExecuteTime": {
     "end_time": "2022-03-17T15:05:25.394567Z",
     "start_time": "2022-03-17T15:05:24.272344Z"
    },
    "colab": {},
    "colab_type": "code",
    "id": "6Zvp9NScfMnw"
   },
   "outputs": [],
   "source": [
    "import matplotlib.pyplot as plt\n",
    "import numpy as np\n",
    "import pandas as pd\n",
    "\n"
   ]
  },
  {
   "cell_type": "code",
   "execution_count": 4,
   "metadata": {
    "ExecuteTime": {
     "end_time": "2022-03-17T15:05:25.457281Z",
     "start_time": "2022-03-17T15:05:25.397576Z"
    }
   },
   "outputs": [
    {
     "data": {
      "text/html": [
       "<div>\n",
       "<style scoped>\n",
       "    .dataframe tbody tr th:only-of-type {\n",
       "        vertical-align: middle;\n",
       "    }\n",
       "\n",
       "    .dataframe tbody tr th {\n",
       "        vertical-align: top;\n",
       "    }\n",
       "\n",
       "    .dataframe thead th {\n",
       "        text-align: right;\n",
       "    }\n",
       "</style>\n",
       "<table border=\"1\" class=\"dataframe\">\n",
       "  <thead>\n",
       "    <tr style=\"text-align: right;\">\n",
       "      <th></th>\n",
       "      <th>Category</th>\n",
       "      <th>Message</th>\n",
       "    </tr>\n",
       "  </thead>\n",
       "  <tbody>\n",
       "    <tr>\n",
       "      <th>0</th>\n",
       "      <td>0</td>\n",
       "      <td>ahhhh...just woken up!had a bad dream about u ...</td>\n",
       "    </tr>\n",
       "    <tr>\n",
       "      <th>1</th>\n",
       "      <td>0</td>\n",
       "      <td>you can never do nothing</td>\n",
       "    </tr>\n",
       "    <tr>\n",
       "      <th>2</th>\n",
       "      <td>0</td>\n",
       "      <td>now u sound like manky scouse boy steve,like! ...</td>\n",
       "    </tr>\n",
       "    <tr>\n",
       "      <th>3</th>\n",
       "      <td>0</td>\n",
       "      <td>mum say we wan to go then go... then she can s...</td>\n",
       "    </tr>\n",
       "    <tr>\n",
       "      <th>4</th>\n",
       "      <td>0</td>\n",
       "      <td>never y lei... i v lazy... got wat? dat day ü ...</td>\n",
       "    </tr>\n",
       "    <tr>\n",
       "      <th>...</th>\n",
       "      <td>...</td>\n",
       "      <td>...</td>\n",
       "    </tr>\n",
       "    <tr>\n",
       "      <th>4174</th>\n",
       "      <td>0</td>\n",
       "      <td>just woke up. yeesh its late. but i didn't fal...</td>\n",
       "    </tr>\n",
       "    <tr>\n",
       "      <th>4175</th>\n",
       "      <td>0</td>\n",
       "      <td>what do u reckon as need 2 arrange transport i...</td>\n",
       "    </tr>\n",
       "    <tr>\n",
       "      <th>4176</th>\n",
       "      <td>1</td>\n",
       "      <td>free entry into our £250 weekly competition ju...</td>\n",
       "    </tr>\n",
       "    <tr>\n",
       "      <th>4177</th>\n",
       "      <td>1</td>\n",
       "      <td>-pls stop bootydelious (32/f) is inviting you ...</td>\n",
       "    </tr>\n",
       "    <tr>\n",
       "      <th>4178</th>\n",
       "      <td>0</td>\n",
       "      <td>tell my  bad character which u dnt lik in me. ...</td>\n",
       "    </tr>\n",
       "  </tbody>\n",
       "</table>\n",
       "<p>4179 rows × 2 columns</p>\n",
       "</div>"
      ],
      "text/plain": [
       "      Category                                            Message\n",
       "0            0  ahhhh...just woken up!had a bad dream about u ...\n",
       "1            0                           you can never do nothing\n",
       "2            0  now u sound like manky scouse boy steve,like! ...\n",
       "3            0  mum say we wan to go then go... then she can s...\n",
       "4            0  never y lei... i v lazy... got wat? dat day ü ...\n",
       "...        ...                                                ...\n",
       "4174         0  just woke up. yeesh its late. but i didn't fal...\n",
       "4175         0  what do u reckon as need 2 arrange transport i...\n",
       "4176         1  free entry into our £250 weekly competition ju...\n",
       "4177         1  -pls stop bootydelious (32/f) is inviting you ...\n",
       "4178         0  tell my  bad character which u dnt lik in me. ...\n",
       "\n",
       "[4179 rows x 2 columns]"
      ]
     },
     "execution_count": 4,
     "metadata": {},
     "output_type": "execute_result"
    }
   ],
   "source": [
    "dataset = pd.read_csv('train-data.tsv',sep='\\t',names=['Category','Message'])\n",
    "dataset['Category'] = dataset['Category'].map({'ham':0,'spam':1})\n",
    "dataset"
   ]
  },
  {
   "cell_type": "markdown",
   "metadata": {},
   "source": [
    "- Normalize Text\n",
    "- Remove Unicode Characters\n",
    "- Remove Stopwords\n",
    "- Perform Stemming and Lemmatization"
   ]
  },
  {
   "cell_type": "code",
   "execution_count": 21,
   "metadata": {
    "ExecuteTime": {
     "end_time": "2022-03-17T15:22:59.580877Z",
     "start_time": "2022-03-17T15:22:58.479310Z"
    }
   },
   "outputs": [
    {
     "name": "stdout",
     "output_type": "stream",
     "text": [
      "Note: you may need to restart the kernel to use updated packages.\n"
     ]
    },
    {
     "name": "stderr",
     "output_type": "stream",
     "text": [
      "ERROR: Could not find a version that satisfies the requirement ntlk (from versions: none)\n",
      "ERROR: No matching distribution found for ntlk\n"
     ]
    }
   ],
   "source": [
    "pip install ntlk"
   ]
  },
  {
   "cell_type": "code",
   "execution_count": 19,
   "metadata": {
    "ExecuteTime": {
     "end_time": "2022-03-17T15:22:21.676859Z",
     "start_time": "2022-03-17T15:22:21.651861Z"
    }
   },
   "outputs": [
    {
     "ename": "ModuleNotFoundError",
     "evalue": "No module named 'nltk'",
     "output_type": "error",
     "traceback": [
      "\u001b[1;31m---------------------------------------------------------------------------\u001b[0m",
      "\u001b[1;31mModuleNotFoundError\u001b[0m                       Traceback (most recent call last)",
      "\u001b[1;32mC:\\Users\\AVINAS~1\\AppData\\Local\\Temp/ipykernel_10624/3651899507.py\u001b[0m in \u001b[0;36m<module>\u001b[1;34m\u001b[0m\n\u001b[0;32m      1\u001b[0m \u001b[1;32mimport\u001b[0m \u001b[0mre\u001b[0m\u001b[1;33m\u001b[0m\u001b[1;33m\u001b[0m\u001b[0m\n\u001b[1;32m----> 2\u001b[1;33m \u001b[1;32mimport\u001b[0m \u001b[0mnltk\u001b[0m\u001b[1;33m.\u001b[0m\u001b[0mcorpus\u001b[0m\u001b[1;33m\u001b[0m\u001b[1;33m\u001b[0m\u001b[0m\n\u001b[0m\u001b[0;32m      3\u001b[0m \u001b[0mnltk\u001b[0m\u001b[1;33m.\u001b[0m\u001b[0mdownload\u001b[0m\u001b[1;33m(\u001b[0m\u001b[1;34m'stopwords'\u001b[0m\u001b[1;33m)\u001b[0m\u001b[1;33m\u001b[0m\u001b[1;33m\u001b[0m\u001b[0m\n\u001b[0;32m      4\u001b[0m \u001b[1;32mfrom\u001b[0m \u001b[0mnltk\u001b[0m\u001b[1;33m.\u001b[0m\u001b[0mcorpus\u001b[0m \u001b[1;32mimport\u001b[0m \u001b[0mstopwords\u001b[0m\u001b[1;33m\u001b[0m\u001b[1;33m\u001b[0m\u001b[0m\n\u001b[0;32m      5\u001b[0m \u001b[1;33m\u001b[0m\u001b[0m\n",
      "\u001b[1;31mModuleNotFoundError\u001b[0m: No module named 'nltk'"
     ]
    }
   ],
   "source": [
    "import re \n",
    "import nltk.corpus\n",
    "nltk.download('stopwords')\n",
    "from nltk.corpus import stopwords\n",
    "\n",
    "\n",
    "def clean_txt(text):\n",
    "    text = text.lower()\n",
    "    text = re.sub(r\"(@\\[A-Za-z0-9]+)|([^0-9A-Za-z \\t])|(\\w+:\\/\\/\\S+)|^rt|http.+?\", \"\", text)\n",
    "    text = \" \".join([word for word in text.split() if word not in (stop)])\n",
    "    \n",
    "    return text \n",
    "    "
   ]
  },
  {
   "cell_type": "code",
   "execution_count": 17,
   "metadata": {
    "ExecuteTime": {
     "end_time": "2022-03-17T15:19:15.216844Z",
     "start_time": "2022-03-17T15:19:15.195850Z"
    }
   },
   "outputs": [
    {
     "data": {
      "text/plain": [
       "'hey amazon  my package never arrived  please fix asap amazonhelp'"
      ]
     },
     "execution_count": 17,
     "metadata": {},
     "output_type": "execute_result"
    }
   ],
   "source": [
    "text = \"hey amazon - my package never arrived https://www.amazon.com/gp/css/order-history?ref_=nav_orders_first please fix asap! @amazonhelp\"\n",
    "clean_txt(text)"
   ]
  },
  {
   "cell_type": "code",
   "execution_count": 5,
   "metadata": {
    "ExecuteTime": {
     "end_time": "2022-03-17T15:05:27.964205Z",
     "start_time": "2022-03-17T15:05:27.954211Z"
    }
   },
   "outputs": [],
   "source": [
    "# ham = 0, spam = 1\n",
    "\n",
    "sentences = dataset['Message'].tolist()\n",
    "labels = dataset['Category'].tolist()\n",
    "\n",
    "# Separate out the sentences and labels into training and test sets\n",
    "training_size = int(len(sentences) * 0.8)\n",
    "\n",
    "training_sentences = sentences[0:training_size]\n",
    "testing_sentences = sentences[training_size:]\n",
    "training_labels = labels[0:training_size]\n",
    "testing_labels = labels[training_size:]\n",
    "\n",
    "# Make labels into numpy arrays for use with the network later\n",
    "training_labels_final = np.array(training_labels)\n",
    "testing_labels_final = np.array(testing_labels)"
   ]
  },
  {
   "cell_type": "markdown",
   "metadata": {
    "colab_type": "text",
    "id": "NHpvqaSigcST"
   },
   "source": [
    "## Tokenize the dataset\n",
    "\n",
    "Tokenize the dataset, including padding and OOV"
   ]
  },
  {
   "cell_type": "code",
   "execution_count": 6,
   "metadata": {
    "ExecuteTime": {
     "end_time": "2022-03-17T15:05:29.547546Z",
     "start_time": "2022-03-17T15:05:29.368997Z"
    },
    "colab": {},
    "colab_type": "code",
    "id": "78icewYRgfxh"
   },
   "outputs": [],
   "source": [
    "vocab_size = 600\n",
    "embedding_dim = 16\n",
    "max_length = 60\n",
    "trunc_type='post'\n",
    "padding_type='post'\n",
    "oov_tok = \"<OOV>\"\n",
    "\n",
    "from tensorflow.keras.preprocessing.text import Tokenizer\n",
    "from tensorflow.keras.preprocessing.sequence import pad_sequences\n",
    "\n",
    "tokenizer = Tokenizer(num_words = vocab_size, oov_token=oov_tok)\n",
    "tokenizer.fit_on_texts(training_sentences)\n",
    "word_index = tokenizer.word_index\n",
    "sequences = tokenizer.texts_to_sequences(training_sentences)\n",
    "padded = pad_sequences(sequences,maxlen=max_length, padding=padding_type, \n",
    "                       truncating=trunc_type)\n",
    "\n",
    "testing_sequences = tokenizer.texts_to_sequences(testing_sentences)\n",
    "testing_padded = pad_sequences(testing_sequences,maxlen=max_length, \n",
    "                               padding=padding_type, truncating=trunc_type)"
   ]
  },
  {
   "cell_type": "markdown",
   "metadata": {
    "colab_type": "text",
    "id": "q4yIEk_8kszh"
   },
   "source": [
    "## Review a Sequence\n",
    "\n",
    "Let's quickly take a look at one of the padded sequences to ensure everything above worked appropriately."
   ]
  },
  {
   "cell_type": "code",
   "execution_count": 7,
   "metadata": {
    "ExecuteTime": {
     "end_time": "2022-03-17T15:05:31.109103Z",
     "start_time": "2022-03-17T15:05:31.065902Z"
    },
    "colab": {},
    "colab_type": "code",
    "id": "JTU3FmVGk100"
   },
   "outputs": [
    {
     "name": "stdout",
     "output_type": "stream",
     "text": [
      "you can never do nothing ? ? ? ? ? ? ? ? ? ? ? ? ? ? ? ? ? ? ? ? ? ? ? ? ? ? ? ? ? ? ? ? ? ? ? ? ? ? ? ? ? ? ? ? ? ? ? ? ? ? ? ? ? ? ?\n",
      "you can never do nothing\n"
     ]
    }
   ],
   "source": [
    "reverse_word_index = dict([(value, key) for (key, value) in word_index.items()])\n",
    "\n",
    "def decode_review(text):\n",
    "    return ' '.join([reverse_word_index.get(i, '?') for i in text])\n",
    "\n",
    "print(decode_review(padded[1]))\n",
    "print(training_sentences[1])"
   ]
  },
  {
   "cell_type": "markdown",
   "metadata": {
    "colab_type": "text",
    "id": "RI91liJnlA92"
   },
   "source": [
    "## Train a Text Classification Model with Embeddings"
   ]
  },
  {
   "cell_type": "code",
   "execution_count": 8,
   "metadata": {
    "ExecuteTime": {
     "end_time": "2022-03-17T15:05:39.866467Z",
     "start_time": "2022-03-17T15:05:33.215851Z"
    },
    "colab": {},
    "colab_type": "code",
    "id": "bBMgzp-_lMTp"
   },
   "outputs": [
    {
     "name": "stdout",
     "output_type": "stream",
     "text": [
      "Model: \"sequential\"\n",
      "_________________________________________________________________\n",
      " Layer (type)                Output Shape              Param #   \n",
      "=================================================================\n",
      " embedding (Embedding)       (None, 60, 16)            9600      \n",
      "                                                                 \n",
      " global_average_pooling1d (G  (None, 16)               0         \n",
      " lobalAveragePooling1D)                                          \n",
      "                                                                 \n",
      " dense (Dense)               (None, 6)                 102       \n",
      "                                                                 \n",
      " dense_1 (Dense)             (None, 1)                 7         \n",
      "                                                                 \n",
      "=================================================================\n",
      "Total params: 9,709\n",
      "Trainable params: 9,709\n",
      "Non-trainable params: 0\n",
      "_________________________________________________________________\n"
     ]
    }
   ],
   "source": [
    "# Note the embedding layer is first, \n",
    "# and the output is only 1 node as it is either 0 or 1 (negative or positive)\n",
    "model = tf.keras.Sequential([\n",
    "    tf.keras.layers.Embedding(vocab_size, embedding_dim, input_length=max_length),\n",
    "    tf.keras.layers.GlobalAveragePooling1D(),\n",
    "    tf.keras.layers.Dense(6, activation='relu'),\n",
    "    tf.keras.layers.Dense(1, activation='sigmoid')\n",
    "])\n",
    "model.compile(loss='binary_crossentropy',optimizer='adam',metrics=['accuracy'])\n",
    "model.summary()"
   ]
  },
  {
   "cell_type": "code",
   "execution_count": 9,
   "metadata": {
    "ExecuteTime": {
     "end_time": "2022-03-17T15:06:06.211960Z",
     "start_time": "2022-03-17T15:05:39.869472Z"
    },
    "colab": {},
    "colab_type": "code",
    "id": "Pfl1W-zVldpn"
   },
   "outputs": [
    {
     "name": "stdout",
     "output_type": "stream",
     "text": [
      "Epoch 1/30\n",
      "105/105 [==============================] - 4s 10ms/step - loss: 0.5446 - accuracy: 0.8672 - val_loss: 0.4131 - val_accuracy: 0.8612\n",
      "Epoch 2/30\n",
      "105/105 [==============================] - 1s 7ms/step - loss: 0.3509 - accuracy: 0.8672 - val_loss: 0.3275 - val_accuracy: 0.8612\n",
      "Epoch 3/30\n",
      "105/105 [==============================] - 1s 7ms/step - loss: 0.2978 - accuracy: 0.8672 - val_loss: 0.2812 - val_accuracy: 0.8612\n",
      "Epoch 4/30\n",
      "105/105 [==============================] - 1s 7ms/step - loss: 0.2509 - accuracy: 0.8672 - val_loss: 0.2284 - val_accuracy: 0.8612\n",
      "Epoch 5/30\n",
      "105/105 [==============================] - 1s 7ms/step - loss: 0.2042 - accuracy: 0.8953 - val_loss: 0.1842 - val_accuracy: 0.9366\n",
      "Epoch 6/30\n",
      "105/105 [==============================] - 1s 8ms/step - loss: 0.1661 - accuracy: 0.9408 - val_loss: 0.1513 - val_accuracy: 0.9533\n",
      "Epoch 7/30\n",
      "105/105 [==============================] - 1s 7ms/step - loss: 0.1355 - accuracy: 0.9560 - val_loss: 0.1256 - val_accuracy: 0.9677\n",
      "Epoch 8/30\n",
      "105/105 [==============================] - 1s 7ms/step - loss: 0.1105 - accuracy: 0.9674 - val_loss: 0.1057 - val_accuracy: 0.9701\n",
      "Epoch 9/30\n",
      "105/105 [==============================] - 1s 7ms/step - loss: 0.0915 - accuracy: 0.9722 - val_loss: 0.0914 - val_accuracy: 0.9749\n",
      "Epoch 10/30\n",
      "105/105 [==============================] - 1s 7ms/step - loss: 0.0774 - accuracy: 0.9782 - val_loss: 0.0819 - val_accuracy: 0.9761\n",
      "Epoch 11/30\n",
      "105/105 [==============================] - 1s 8ms/step - loss: 0.0686 - accuracy: 0.9803 - val_loss: 0.0741 - val_accuracy: 0.9785\n",
      "Epoch 12/30\n",
      "105/105 [==============================] - 1s 8ms/step - loss: 0.0611 - accuracy: 0.9829 - val_loss: 0.0702 - val_accuracy: 0.9797\n",
      "Epoch 13/30\n",
      "105/105 [==============================] - 1s 8ms/step - loss: 0.0559 - accuracy: 0.9832 - val_loss: 0.0667 - val_accuracy: 0.9821\n",
      "Epoch 14/30\n",
      "105/105 [==============================] - 1s 7ms/step - loss: 0.0514 - accuracy: 0.9847 - val_loss: 0.0635 - val_accuracy: 0.9821\n",
      "Epoch 15/30\n",
      "105/105 [==============================] - 1s 7ms/step - loss: 0.0479 - accuracy: 0.9853 - val_loss: 0.0613 - val_accuracy: 0.9821\n",
      "Epoch 16/30\n",
      "105/105 [==============================] - 1s 7ms/step - loss: 0.0444 - accuracy: 0.9868 - val_loss: 0.0583 - val_accuracy: 0.9821\n",
      "Epoch 17/30\n",
      "105/105 [==============================] - 1s 7ms/step - loss: 0.0412 - accuracy: 0.9871 - val_loss: 0.0568 - val_accuracy: 0.9833\n",
      "Epoch 18/30\n",
      "105/105 [==============================] - 1s 7ms/step - loss: 0.0389 - accuracy: 0.9871 - val_loss: 0.0573 - val_accuracy: 0.9833\n",
      "Epoch 19/30\n",
      "105/105 [==============================] - 1s 7ms/step - loss: 0.0365 - accuracy: 0.9877 - val_loss: 0.0548 - val_accuracy: 0.9833\n",
      "Epoch 20/30\n",
      "105/105 [==============================] - 1s 7ms/step - loss: 0.0343 - accuracy: 0.9880 - val_loss: 0.0553 - val_accuracy: 0.9821\n",
      "Epoch 21/30\n",
      "105/105 [==============================] - 1s 7ms/step - loss: 0.0319 - accuracy: 0.9898 - val_loss: 0.0518 - val_accuracy: 0.9833\n",
      "Epoch 22/30\n",
      "105/105 [==============================] - 1s 7ms/step - loss: 0.0308 - accuracy: 0.9892 - val_loss: 0.0530 - val_accuracy: 0.9821\n",
      "Epoch 23/30\n",
      "105/105 [==============================] - 1s 7ms/step - loss: 0.0288 - accuracy: 0.9910 - val_loss: 0.0541 - val_accuracy: 0.9821\n",
      "Epoch 24/30\n",
      "105/105 [==============================] - 1s 7ms/step - loss: 0.0274 - accuracy: 0.9913 - val_loss: 0.0509 - val_accuracy: 0.9833\n",
      "Epoch 25/30\n",
      "105/105 [==============================] - 1s 7ms/step - loss: 0.0258 - accuracy: 0.9919 - val_loss: 0.0511 - val_accuracy: 0.9833\n",
      "Epoch 26/30\n",
      "105/105 [==============================] - 1s 7ms/step - loss: 0.0243 - accuracy: 0.9925 - val_loss: 0.0505 - val_accuracy: 0.9833\n",
      "Epoch 27/30\n",
      "105/105 [==============================] - 1s 7ms/step - loss: 0.0233 - accuracy: 0.9919 - val_loss: 0.0538 - val_accuracy: 0.9844\n",
      "Epoch 28/30\n",
      "105/105 [==============================] - 1s 7ms/step - loss: 0.0218 - accuracy: 0.9928 - val_loss: 0.0503 - val_accuracy: 0.9856\n",
      "Epoch 29/30\n",
      "105/105 [==============================] - 1s 8ms/step - loss: 0.0208 - accuracy: 0.9925 - val_loss: 0.0526 - val_accuracy: 0.9844\n",
      "Epoch 30/30\n",
      "105/105 [==============================] - 1s 7ms/step - loss: 0.0196 - accuracy: 0.9949 - val_loss: 0.0530 - val_accuracy: 0.9856\n",
      "dict_keys(['loss', 'accuracy', 'val_loss', 'val_accuracy'])\n"
     ]
    },
    {
     "data": {
      "image/png": "[encoded data removed]",
      "text/plain": [
       "<Figure size 432x288 with 1 Axes>"
      ]
     },
     "metadata": {
      "needs_background": "light"
     },
     "output_type": "display_data"
    }
   ],
   "source": [
    "num_epochs = 30\n",
    "history=model.fit(padded, training_labels_final, epochs=num_epochs, validation_data=(testing_padded, testing_labels_final))\n",
    "\n",
    "# list all data in history\n",
    "print(history.history.keys())\n",
    "# summarize history for accuracy\n",
    "plt.plot(history.history['loss'])\n",
    "plt.plot(history.history['val_loss'])\n",
    "plt.title('model loss')\n",
    "plt.ylabel('loss')\n",
    "plt.xlabel('epoch')\n",
    "plt.legend(['train', 'val'], loc='upper left')\n",
    "plt.show()"
   ]
  },
  {
   "cell_type": "code",
   "execution_count": 10,
   "metadata": {
    "ExecuteTime": {
     "end_time": "2022-03-17T15:06:08.619659Z",
     "start_time": "2022-03-17T15:06:08.607652Z"
    },
    "colab": {},
    "colab_type": "code",
    "id": "S2lB46FirAVx"
   },
   "outputs": [
    {
     "name": "stdout",
     "output_type": "stream",
     "text": [
      "(600, 16)\n"
     ]
    }
   ],
   "source": [
    "# First get the weights of the embedding layer\n",
    "e = model.layers[0]\n",
    "weights = e.get_weights()[0]\n",
    "print(weights.shape) # shape: (vocab_size, embedding_dim)"
   ]
  },
  {
   "cell_type": "code",
   "execution_count": 13,
   "metadata": {
    "ExecuteTime": {
     "end_time": "2022-03-17T09:02:57.413129Z",
     "start_time": "2022-03-17T09:02:57.373133Z"
    },
    "colab": {},
    "colab_type": "code",
    "id": "Xcha0oGemHX2"
   },
   "outputs": [],
   "source": [
    "import io\n",
    "\n",
    "# Write out the embedding vectors and metadata\n",
    "out_v = io.open('vecs.tsv', 'w', encoding='utf-8')\n",
    "out_m = io.open('meta.tsv', 'w', encoding='utf-8')\n",
    "for word_num in range(1, vocab_size):\n",
    "  word = reverse_word_index[word_num]\n",
    "  embeddings = weights[word_num]\n",
    "  out_m.write(word + \"\\n\")\n",
    "  out_v.write('\\t'.join([str(x) for x in embeddings]) + \"\\n\")\n",
    "out_v.close()\n",
    "out_m.close()"
   ]
  },
  {
   "cell_type": "markdown",
   "metadata": {
    "colab_type": "text",
    "id": "GNoxfY-i3Ir1"
   },
   "source": [
    "## Detecting Spam Across New Messages"
   ]
  },
  {
   "cell_type": "code",
   "execution_count": 11,
   "metadata": {
    "ExecuteTime": {
     "end_time": "2022-03-17T15:06:18.966545Z",
     "start_time": "2022-03-17T15:06:18.822602Z"
    },
    "colab": {},
    "colab_type": "code",
    "id": "QXtfw-OY3WoZ"
   },
   "outputs": [
    {
     "name": "stdout",
     "output_type": "stream",
     "text": [
      "['Greg, can you call me back once you get this?', 'Congrats on your new iPhone! Click here to claim your prize...', 'Really like that new photo of you', 'Did you hear the news today? Terrible what has happened...', 'Attend this free COVID webinar today: Book your session now...', 'Are you coming to the party tonight?', 'Your parcel has gone missing', 'Do not forget to bring friends!', 'You have won a million dollars! Fill out your bank details here...', 'Looking forward to seeing you again']\n",
      "Greg, can you call me back once you get this?\n",
      "[0.03547022]\n",
      "\n",
      "\n",
      "Congrats on your new iPhone! Click here to claim your prize...\n",
      "[0.7169639]\n",
      "\n",
      "\n",
      "Really like that new photo of you\n",
      "[0.00388939]\n",
      "\n",
      "\n",
      "Did you hear the news today? Terrible what has happened...\n",
      "[0.00114235]\n",
      "\n",
      "\n",
      "Attend this free COVID webinar today: Book your session now...\n",
      "[0.5938423]\n",
      "\n",
      "\n",
      "Are you coming to the party tonight?\n",
      "[0.00082015]\n",
      "\n",
      "\n",
      "Your parcel has gone missing\n",
      "[0.00989601]\n",
      "\n",
      "\n",
      "Do not forget to bring friends!\n",
      "[0.00142587]\n",
      "\n",
      "\n",
      "You have won a million dollars! Fill out your bank details here...\n",
      "[0.54925203]\n",
      "\n",
      "\n",
      "Looking forward to seeing you again\n",
      "[0.0187293]\n",
      "\n",
      "\n"
     ]
    }
   ],
   "source": [
    "# Use the model to predict whether a message is spam\n",
    "text_messages = ['Greg, can you call me back once you get this?',\n",
    "                'Congrats on your new iPhone! Click here to claim your prize...', \n",
    "                'Really like that new photo of you',\n",
    "                'Did you hear the news today? Terrible what has happened...',\n",
    "                'Attend this free COVID webinar today: Book your session now...',\n",
    "                'Are you coming to the party tonight?',\n",
    "                'Your parcel has gone missing',\n",
    "                'Do not forget to bring friends!',\n",
    "                'You have won a million dollars! Fill out your bank details here...',\n",
    "                'Looking forward to seeing you again']\n",
    "\n",
    "print(text_messages) \n",
    "\n",
    "# Create the sequences\n",
    "padding_type='post'\n",
    "sample_sequences = tokenizer.texts_to_sequences(text_messages)\n",
    "fakes_padded = pad_sequences(sample_sequences, padding=padding_type, maxlen=max_length)           \n",
    "\n",
    "classes = model.predict(fakes_padded)\n",
    "\n",
    "# The closer the class is to 1, the more likely that the message is spam\n",
    "for x in range(len(text_messages)):\n",
    "  print(text_messages[x])\n",
    "  print(classes[x])\n",
    "  print('\\n')"
   ]
  },
  {
   "cell_type": "code",
   "execution_count": 13,
   "metadata": {
    "ExecuteTime": {
     "end_time": "2022-03-17T15:07:40.490214Z",
     "start_time": "2022-03-17T15:07:40.396756Z"
    }
   },
   "outputs": [
    {
     "name": "stdout",
     "output_type": "stream",
     "text": [
      "how are you doing today\n",
      "[0.00146956]\n",
      "\n",
      "\n",
      "sale today! to stop texts call 98912460324\n",
      "[0.38843557]\n",
      "\n",
      "\n",
      "i dont want to go. can we try it a different day? available sat\n",
      "[0.00012865]\n",
      "\n",
      "\n",
      "our new mobile video service is live. just install on your phone to start watching.\n",
      "[0.94648993]\n",
      "\n",
      "\n",
      "you have won £1000 cash! call to claim your prize.\n",
      "[0.9957539]\n",
      "\n",
      "\n",
      "i'll bring it tomorrow. don't forget the milk.\n",
      "[8.606891e-05]\n",
      "\n",
      "\n",
      "wow, is your arm alright. that happened to me one time too\n",
      "[0.00237285]\n",
      "\n",
      "\n"
     ]
    }
   ],
   "source": [
    "test_messages = [\"how are you doing today\",\n",
    "                   \"sale today! to stop texts call 98912460324\",\n",
    "                   \"i dont want to go. can we try it a different day? available sat\",\n",
    "                   \"our new mobile video service is live. just install on your phone to start watching.\",\n",
    "                   \"you have won £1000 cash! call to claim your prize.\",\n",
    "                   \"i'll bring it tomorrow. don't forget the milk.\",\n",
    "                   \"wow, is your arm alright. that happened to me one time too\"\n",
    "                  ]\n",
    "\n",
    "# Create the sequences\n",
    "padding_type='post'\n",
    "sample_sequences = tokenizer.texts_to_sequences(test_messages)\n",
    "fakes_padded = pad_sequences(sample_sequences, padding=padding_type, maxlen=max_length)           \n",
    "\n",
    "classes = model.predict(fakes_padded)\n",
    "\n",
    "\n",
    "# The closer the class is to 1, the more likely that the message is spam\n",
    "for x in range(len(test_messages)):\n",
    "  print(test_messages[x])\n",
    "  print(classes[x])\n",
    "  print('\\n')\n"
   ]
  },
  {
   "cell_type": "code",
   "execution_count": null,
   "metadata": {},
   "outputs": [],
   "source": []
  }
 ],
 "metadata": {
  "accelerator": "GPU",
  "colab": {
   "collapsed_sections": [],
   "name": "l09c04_nlp_embeddings_and_sentiment.ipynb",
   "provenance": [],
   "toc_visible": true
  },
  "kernelspec": {
   "display_name": "Python 3 (ipykernel)",
   "language": "python",
   "name": "python3"
  },
  "language_info": {
   "codemirror_mode": {
    "name": "ipython",
    "version": 3
   },
   "file_extension": ".py",
   "mimetype": "text/x-python",
   "name": "python",
   "nbconvert_exporter": "python",
   "pygments_lexer": "ipython3",
   "version": "3.9.7"
  },
  "toc": {
   "base_numbering": 1,
   "nav_menu": {},
   "number_sections": true,
   "sideBar": true,
   "skip_h1_title": false,
   "title_cell": "Table of Contents",
   "title_sidebar": "Contents",
   "toc_cell": false,
   "toc_position": {},
   "toc_section_display": true,
   "toc_window_display": false
  }
 },
 "nbformat": 4,
 "nbformat_minor": 1
}
